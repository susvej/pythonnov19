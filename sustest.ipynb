{
 "cells": [
  {
   "cell_type": "code",
   "execution_count": 1,
   "id": "f2fa67f0",
   "metadata": {},
   "outputs": [
    {
     "data": {
      "text/plain": [
       "2"
      ]
     },
     "execution_count": 1,
     "metadata": {},
     "output_type": "execute_result"
    }
   ],
   "source": [
    "1+1"
   ]
  },
  {
   "cell_type": "markdown",
   "id": "0f97e4dc",
   "metadata": {},
   "source": [
    "todo: load words from list\n",
    "\n",
    "todo: figure out how to publish with interactivity online\n"
   ]
  },
  {
   "cell_type": "code",
   "execution_count": 2,
   "id": "b4318995",
   "metadata": {},
   "outputs": [
    {
     "name": "stdout",
     "output_type": "stream",
     "text": [
      "['apple', 'banana', 'mango', 'strawberry', 'orange', 'grape', 'pineapple', 'apricot', 'lemon', 'coconut', 'watermelon', 'cherry', 'papaya', 'berry', 'peach', 'lychee', 'muskmelon']\n"
     ]
    }
   ],
   "source": [
    "# Python Program to illustrate\n",
    "# Hangman Game\n",
    "import random\n",
    "from collections import Counter\n",
    "\n",
    "someWords = '''apple banana mango strawberry orange grape pineapple apricot lemon coconut watermelon cherry papaya berry peach lychee muskmelon'''\n",
    "\n",
    "#this splits someWords on spaces and turns it into a list.\n",
    "someWordsList = someWords.split(' ')\n",
    "print(someWordsList)\n",
    "# randomly choose a secret word from our \"someWords\" LIST.\n",
    "word = random.choice(someWordsList)\n"
   ]
  },
  {
   "cell_type": "code",
   "execution_count": 3,
   "id": "a0ec3fda",
   "metadata": {},
   "outputs": [
    {
     "name": "stdout",
     "output_type": "stream",
     "text": [
      "apple\n"
     ]
    }
   ],
   "source": [
    "print(word)"
   ]
  },
  {
   "cell_type": "code",
   "execution_count": 4,
   "id": "0ad756e4",
   "metadata": {},
   "outputs": [],
   "source": [
    "def checknumguesses(numguesses, numchances):\n",
    "    if numguesses > numchances:\n",
    "        print(\"...and that was your last guess. The word was:\", word)\n",
    "        return False\n",
    "    else:\n",
    "        return True"
   ]
  },
  {
   "cell_type": "code",
   "execution_count": 5,
   "id": "8db8b504",
   "metadata": {},
   "outputs": [
    {
     "name": "stdout",
     "output_type": "stream",
     "text": [
      "Guess the word! HINT: word is a name of a fruit\n"
     ]
    }
   ],
   "source": [
    "# https://www.geeksforgeeks.org/what-does-the-if-__name__-__main__-do/\n",
    "if __name__ == '__main__':\n",
    "    print('Guess the word! HINT: word is a name of a fruit')\n"
   ]
  },
  {
   "cell_type": "code",
   "execution_count": 6,
   "id": "ff686364",
   "metadata": {},
   "outputs": [
    {
     "name": "stdout",
     "output_type": "stream",
     "text": [
      "_ _ _ _ _ \n"
     ]
    }
   ],
   "source": [
    "for letter in word:\n",
    "    # end= shows that at the end of the printed, there is this symbol (e.g. space)\n",
    "    print(\"_\", end=\" \")\n",
    "\n",
    "#this prints a newline\n",
    "print()"
   ]
  },
  {
   "cell_type": "code",
   "execution_count": 7,
   "id": "ced06525",
   "metadata": {},
   "outputs": [],
   "source": [
    "numchances = len(word)+2\n",
    "numguesses = 0\n",
    "correct = len(word)"
   ]
  },
  {
   "cell_type": "code",
   "execution_count": 8,
   "id": "f25049f6",
   "metadata": {},
   "outputs": [
    {
     "name": "stdout",
     "output_type": "stream",
     "text": [
      "Guess a single letter!a\n",
      "yes! You have used 1 guesses so far\n",
      "Guess a single letter!u\n",
      "nope! You have used 2 guesses so far\n",
      "Guess a single letter!a\n",
      "...you already guessed that letter, try again! Your current guessed letters are: ua\n",
      "Guess a single letter!a\n",
      "...you already guessed that letter, try again! Your current guessed letters are: ua\n",
      "Guess a single letter!a\n",
      "...you already guessed that letter, try again! Your current guessed letters are: ua\n",
      "Guess a single letter!o\n",
      "nope! You have used 3 guesses so far\n",
      "Guess a single letter!k\n",
      "nope! You have used 4 guesses so far\n",
      "Guess a single letter!q\n",
      "nope! You have used 5 guesses so far\n",
      "Guess a single letter!q\n",
      "...you already guessed that letter, try again! Your current guessed letters are: kuoqa\n",
      "Guess a single letter!p\n",
      "yes! You have used 6 guesses so far\n",
      "Guess a single letter!o\n",
      "...you already guessed that letter, try again! Your current guessed letters are: kuoqpa\n",
      "Guess a single letter!j\n",
      "nope! You have used 7 guesses so far\n",
      "Guess a single letter!i\n",
      "nope! You have used 8 guesses so far\n",
      "...and that was your last guess. The word was: apple\n"
     ]
    }
   ],
   "source": [
    "pastGuesses = ''\n",
    "playing = True\n",
    "while playing == True:\n",
    "    try:\n",
    "        guess = str(input(\"Guess a single letter!\"))\n",
    "    except:\n",
    "        print(\"That wasn't a single letter\")\n",
    "        continue\n",
    "    if not guess.isalpha():\n",
    "        print(\"that's not a letter\")\n",
    "    elif len(guess) > 1:\n",
    "        print(\"that's not one single letter\")\n",
    "        continue\n",
    "    elif guess in pastGuesses:\n",
    "        allpast = ''.join(set(pastGuesses))\n",
    "        print(\"...you already guessed that letter, try again! Your current guessed letters are:\", allpast)\n",
    "        continue\n",
    "    \n",
    "    pastGuesses+= guess\n",
    "    \n",
    "    #Test to see if letter is in word\n",
    "    if guess in word:\n",
    "        numguesses = numguesses+1\n",
    "        print(\"yes! You have used\", numguesses, \"guesses so far\")\n",
    "        #if guess occurs more than once in word, get the number of times\n",
    "        k = word.count(guess)\n",
    "        correct = correct-k\n",
    "        if correct <1:\n",
    "            print(\"success! the word is \", word)\n",
    "            break\n",
    "        playing = checknumguesses(numguesses, numchances)\n",
    "        continue\n",
    "    #test to see if letter is NOT in word\n",
    "    elif guess not in word:\n",
    "        numguesses = numguesses+1\n",
    "        print(\"nope! You have used\", numguesses, \"guesses so far\")\n",
    "        playing = checknumguesses(numguesses, numchances)\n",
    "        continue\n",
    "\n"
   ]
  },
  {
   "cell_type": "code",
   "execution_count": null,
   "id": "3f571375",
   "metadata": {},
   "outputs": [],
   "source": []
  },
  {
   "cell_type": "code",
   "execution_count": null,
   "id": "63a09b93",
   "metadata": {},
   "outputs": [],
   "source": []
  },
  {
   "cell_type": "code",
   "execution_count": null,
   "id": "b4db23ef",
   "metadata": {},
   "outputs": [],
   "source": []
  },
  {
   "cell_type": "code",
   "execution_count": null,
   "id": "d404320f",
   "metadata": {},
   "outputs": [],
   "source": []
  }
 ],
 "metadata": {
  "kernelspec": {
   "display_name": "Python 3 (ipykernel)",
   "language": "python",
   "name": "python3"
  },
  "language_info": {
   "codemirror_mode": {
    "name": "ipython",
    "version": 3
   },
   "file_extension": ".py",
   "mimetype": "text/x-python",
   "name": "python",
   "nbconvert_exporter": "python",
   "pygments_lexer": "ipython3",
   "version": "3.10.9"
  }
 },
 "nbformat": 4,
 "nbformat_minor": 5
}
